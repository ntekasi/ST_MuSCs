{
 "cells": [
  {
   "attachments": {},
   "cell_type": "markdown",
   "id": "4586ca81-c174-47a8-83d5-dae131e30c5f",
   "metadata": {},
   "source": [
    "# `cell2location` deconvolution of SlideSeq data  --muscle dataset \n",
    "\n",
    "Link to vignette:\n",
    "https://github.com/BayraktarLab/cell2location/blob/master/docs/notebooks/cell2location_short_demo.ipynb\n",
    "**First part of the cell2location pipeline//Here we construct the reference needed for deconvolution\n",
    "This only need to be run once per tissue type/reference"
   ]
  },
  {
   "cell_type": "code",
   "execution_count": null,
   "id": "c5d2869a-da3d-48d6-a88d-565403e182e0",
   "metadata": {
    "scrolled": true
   },
   "outputs": [],
   "source": [
    "import numpy as np\n",
    "import anndata as ad\n",
    "import pandas as pd\n",
    "import scanpy as sc\n",
    "import os\n",
    "import seaborn as sns\n",
    "import matplotlib as mpl\n",
    "from matplotlib import rcParams\n",
    "import matplotlib.pyplot as plt\n",
    "import gc\n",
    "gc.enable()\n",
    "import torch"
   ]
  },
  {
   "cell_type": "code",
   "execution_count": null,
   "id": "67bfd236-978e-4c58-ab76-9bc39cbd12bd",
   "metadata": {
    "scrolled": true
   },
   "outputs": [],
   "source": [
    "os.environ[\"THEANO_FLAGS\"] = 'device=cuda,floatX=float32,force_device=True'\n",
    "import cell2location"
   ]
  },
  {
   "cell_type": "code",
   "execution_count": null,
   "id": "f9396d9c-7b6f-467a-83a4-aa4acfcd1740",
   "metadata": {},
   "outputs": [],
   "source": [
    "os.environ[\"PYTORCH_CUDA_ALLOC_CONF\"] = \"max_split_size_mb:8000\""
   ]
  },
  {
   "cell_type": "code",
   "execution_count": null,
   "id": "d8304203-e7d3-43d0-b04a-386d6f7ae609",
   "metadata": {},
   "outputs": [],
   "source": [
    "#### TODO Future add this to utils \n",
    "\n",
    "def add_spatial_coordinates(adata, csv_path):\n",
    "    # Read the CSV file containing cell names and coordinates\n",
    "    spatial_df = pd.read_csv(csv_path, sep='\\t', index_col=0, names=['x', 'y'])\n",
    "\n",
    "    # Merge the spatial information with the original AnnData object\n",
    "    adata_spatial = pd.merge(adata.obs, spatial_df, left_index=True, right_index=True, how='left')\n",
    "\n",
    "    # Add NaN for cells without coordinates\n",
    "    adata_spatial[['x', 'y']] = adata_spatial[['x', 'y']].where(pd.notna(adata_spatial[['x', 'y']]), np.nan)\n",
    "\n",
    "    # Print a message about the number of cells with added coordinates\n",
    "    print(f\"Added spatial coordinates for {adata_spatial[['x', 'y']].count().min()} cells.\")\n",
    "\n",
    "    # Add the 'spatial' component to the AnnData object\n",
    "    adata.obsm['spatial'] = adata_spatial[['x', 'y']].values\n",
    "\n",
    "    return adata"
   ]
  },
  {
   "cell_type": "markdown",
   "id": "3120996d",
   "metadata": {},
   "source": [
    "## Settings"
   ]
  },
  {
   "cell_type": "markdown",
   "id": "8817a0be-998f-4518-878f-85dd3264ee35",
   "metadata": {},
   "source": [
    "Load data"
   ]
  },
  {
   "cell_type": "markdown",
   "id": "b98f7347",
   "metadata": {},
   "source": [
    "# Run `cell2loc`"
   ]
  },
  {
   "cell_type": "markdown",
   "id": "0530fd86-d329-4915-a782-60d00bfb8323",
   "metadata": {
    "tags": []
   },
   "source": [
    "# Generate single-cell reference model"
   ]
  },
  {
   "cell_type": "markdown",
   "id": "f0dcf47e-a240-4c00-b341-50deae46a12b",
   "metadata": {},
   "source": [
    "## Deconvolution section\n"
   ]
  },
  {
   "cell_type": "code",
   "execution_count": null,
   "id": "6415bd36-8980-4744-a1f8-df44ad475ff0",
   "metadata": {},
   "outputs": [],
   "source": [
    "adata_ref = sc.read_h5ad(\"/workdir/in68/Muscle/sc_reference/20240216_AllDays_LDW_Aging.h5ad\")"
   ]
  },
  {
   "cell_type": "code",
   "execution_count": null,
   "id": "3fe068df-6f1c-406f-9d6e-f1f18ef33ef0",
   "metadata": {
    "scrolled": true
   },
   "outputs": [],
   "source": [
    "adata_ref.X = adata_ref.raw.X.copy()\n",
    "del adata_ref.raw\n",
    "adata_ref.X\n"
   ]
  },
  {
   "cell_type": "code",
   "execution_count": null,
   "id": "0c3f5cac-9145-4a03-854c-6acd831f64b5",
   "metadata": {},
   "outputs": [],
   "source": [
    "#round raw counts because soupX yields non-integers and cell2loc is unhappy\n",
    "from scipy.sparse import csr_matrix\n",
    "adata_ref.X = csr_matrix(np.round(adata_ref.X).astype(np.int32))\n"
   ]
  },
  {
   "cell_type": "code",
   "execution_count": null,
   "id": "4a0a3ac6-1aa4-40a2-bceb-f07abb153aa6",
   "metadata": {},
   "outputs": [],
   "source": [
    "np.unique(adata_ref.obs['Specific_cell_types2'])"
   ]
  },
  {
   "cell_type": "code",
   "execution_count": null,
   "id": "1262dda2-ce57-408c-91ca-b09a35c61ba9",
   "metadata": {},
   "outputs": [],
   "source": [
    "adata_ref = adata_ref[adata_ref.obs['Specific_cell_types2'] != 'MuSCs and progenitors']\n",
    "adata_ref = adata_ref[adata_ref.obs['Specific_cell_types2'] != 'Endothelial and Myeloid cells']\n",
    "\n",
    "np.unique(adata_ref.obs['Specific_cell_types2'])"
   ]
  },
  {
   "cell_type": "code",
   "execution_count": null,
   "id": "d87c1088-97b9-4262-980b-7ec85977888c",
   "metadata": {},
   "outputs": [],
   "source": [
    "cell_type_mapping = {\n",
    "        'B cells' : 'B cells',\n",
    "        'Committing MPCs' : 'MuSCs' ,\n",
    "        'Cycling MPCs' : 'MuSCs',\n",
    "        'Dendritic cells (Cd209a+)' : 'Dendritic cells',\n",
    "        'Dendritic cells (Cd72+)': 'Dendritic cells',\n",
    "        'Dendritic cells (Fscn1+)': 'Dendritic cells', \n",
    "        'Dendritic cells (Xcr1+)': 'Dendritic cells',\n",
    "        'Endothelial cells (Artery)': 'Endothelial cells',\n",
    "        'Endothelial cells (Capillary)': 'Endothelial cells',\n",
    "        'Endothelial cells (Vein)': 'Endothelial cells',\n",
    "        'Erythrocytes' : 'Erythrocytes',\n",
    "        'FAPs (Adipogenic)': 'FAPs',\n",
    "        'FAPs (Pro-remodeling)': 'FAPs',\n",
    "        'FAPs (Stem)': 'FAPs', \n",
    "        'Fusing Myocytes': 'Fusing Myocytes',\n",
    "        'M1 Macrophages (Ccr2+)' : 'Monocytes/Macrophages',\n",
    "        'M1/M2 Macrophages (Mrc1+)': 'Monocytes/Macrophages', \n",
    "        'M2 Macrophages (Cx3cr1+)': 'Monocytes/Macrophages',\n",
    "        'Monocytes (Cycling; Cdk1+)': 'Monocytes/Macrophages', \n",
    "        'Monocytes/Macrophages (Cxcl10+)': 'Monocytes/Macrophages',\n",
    "        'Monocytes/Macrophages (Patrolling; Ctsa+)': 'Monocytes/Macrophages',\n",
    "        'MuSCs 1':  'MuSCs',\n",
    "        'MuSCs 2': 'MuSCs',\n",
    "        'MuSCs 3': 'MuSCs',\n",
    "        'MuSCs 4': 'MuSCs',\n",
    "        'MuSCs 5': 'MuSCs',\n",
    "        'MuSCs 6': 'MuSCs',\n",
    "        'Myonuclei' : 'Myonuclei',\n",
    "        'NK cells' : 'NK cells', \n",
    "        'Neutrophils' :  'Neutrophils',\n",
    "        'Non-Cycling MPCs' : 'MuSCs',\n",
    "        'Pericytes and Smooth muscle cells' : 'Pericytes and Smooth muscle cells',\n",
    "        'Schwann and Neural/Glial cells' : 'Schwann and Neural/Glial cells', \n",
    "        'T cells (Cd4+)': 'T cells',\n",
    "        'T cells (Cycling; Cd3e+)': 'T cells',\n",
    "        'T cells (Non-cycling; Cd3e+)': 'T cells',\n",
    "        'Tenocytes': 'Tenocytes'\n",
    "}\n",
    "\n",
    "adata_ref.obs['Cell_type'] = adata_ref.obs['Specific_cell_types2'].map(cell_type_mapping)"
   ]
  },
  {
   "cell_type": "code",
   "execution_count": null,
   "id": "bbec221e-bc80-44a5-83ab-549fecfbd164",
   "metadata": {},
   "outputs": [],
   "source": [
    "adata_ref.obs['Cell_type']"
   ]
  },
  {
   "cell_type": "code",
   "execution_count": null,
   "id": "95f5b2bb-b239-486a-9331-d8f1d5821253",
   "metadata": {},
   "outputs": [],
   "source": [
    "from cell2location.utils.filtering import filter_genes\n",
    "###Standard default vals for heart reference// May requires change for bigger refs\n",
    "#for adata in ref_dict.values:\n",
    "selected = filter_genes(\n",
    "        adata_ref,\n",
    "        cell_count_cutoff=5,\n",
    "        cell_percentage_cutoff2=0.01,\n",
    "        nonz_mean_cutoff=1.12)\n",
    "selected\n"
   ]
  },
  {
   "cell_type": "code",
   "execution_count": null,
   "id": "dcad1eba-9a00-4807-bf7b-f996b0dd9887",
   "metadata": {},
   "outputs": [],
   "source": [
    "# filter the object\n",
    "adata_ref = adata_ref[:, selected].copy()"
   ]
  },
  {
   "cell_type": "code",
   "execution_count": null,
   "id": "6f127d7c-6588-43a0-bb01-60229d9fbb58",
   "metadata": {},
   "outputs": [],
   "source": [
    "# prepare anndata for the regression model\n",
    "cell2location.models.RegressionModel.setup_anndata(\n",
    "    adata=adata_ref, \n",
    "        \n",
    "    # 10X reaction / sample / batch\n",
    "    batch_key='orig.ident', \n",
    "    \n",
    "    # cell type, covariate used for constructing signatures\n",
    "    labels_key='Cell_type'\n",
    "    \n",
    "    # multiplicative technical effects (platform, 3' vs 5', donor effect)\n",
    "    # categorical_covariate_keys=['Method']\n",
    ")"
   ]
  },
  {
   "cell_type": "code",
   "execution_count": null,
   "id": "68817c33-e972-448a-868d-92ce7cf0ba10",
   "metadata": {},
   "outputs": [],
   "source": [
    "# create the regression model\n",
    "from cell2location.models import RegressionModel\n",
    "mod = RegressionModel(adata_ref) \n",
    "\n",
    "# view anndata_setup as a sanity check\n",
    "mod.view_anndata_setup()"
   ]
  },
  {
   "cell_type": "code",
   "execution_count": null,
   "id": "46af2c60-0e7b-49b0-9eb1-f22b44b6a39f",
   "metadata": {},
   "outputs": [],
   "source": [
    "adata_ref"
   ]
  },
  {
   "cell_type": "code",
   "execution_count": null,
   "id": "c74ed8af-37f5-4d53-a1c0-f9acee976f31",
   "metadata": {},
   "outputs": [],
   "source": [
    "mod.train(max_epochs=250, use_gpu=1)"
   ]
  },
  {
   "cell_type": "code",
   "execution_count": null,
   "id": "1e7ba75d-665f-44f3-bbe3-85bdbf40c08a",
   "metadata": {},
   "outputs": [],
   "source": [
    "mod.plot_history(1)"
   ]
  },
  {
   "cell_type": "code",
   "execution_count": null,
   "id": "38b6d50b-0a1f-43dc-ab00-a1453a7f48d9",
   "metadata": {},
   "outputs": [],
   "source": [
    "# In this section, we export the estimated cell abundance (summary of the posterior distribution).\n",
    "adata_ref = mod.export_posterior(\n",
    "    adata_ref, \n",
    "    sample_kwargs={'num_samples': 1000, 'batch_size': 2500, 'use_gpu': True}\n",
    ")\n",
    "\n",
    "# Save model\n",
    "ref_run_name = \"Muscle_ref_cell2loc_celltype2_040324\"\n",
    "mod.save(f\"/fs/cbsuvlaminck2/workdir/in68/c2l/{ref_run_name}\", overwrite=True)\n",
    "\n",
    "# Save anndata object with results\n",
    "adata_ref.write( f\"/fs/cbsuvlaminck2/workdir/in68/c2l/{ref_run_name}.h5ad\")"
   ]
  },
  {
   "cell_type": "code",
   "execution_count": null,
   "id": "08dd11ae-68c2-4310-87c0-1eb951f74243",
   "metadata": {},
   "outputs": [],
   "source": [
    "# Load reference\n",
    "ref_run_name = \"Muscle_ref_cell2loc_celltype2_022924\"\n",
    "adata_ref = sc.read_h5ad(f\"/fs/cbsuvlaminck2/workdir/in68/c2l/{ref_run_name}.h5ad\")\n",
    "mod = cell2location.models.RegressionModel.load(f\"/fs/cbsuvlaminck2/workdir/in68/c2l/{ref_run_name}\", adata_ref,use_gpu= True)"
   ]
  },
  {
   "cell_type": "code",
   "execution_count": null,
   "id": "ce0c4400-7b8d-483b-a020-33ae5919306b",
   "metadata": {},
   "outputs": [],
   "source": [
    "mod.plot_QC()"
   ]
  },
  {
   "cell_type": "markdown",
   "id": "9d025416-04b9-4ba9-9fb2-e67f27fee6ff",
   "metadata": {},
   "source": [
    "export estimated expression in each cluster"
   ]
  },
  {
   "cell_type": "code",
   "execution_count": null,
   "id": "5ada019b-9e00-44c2-9a0b-b9fb4e1afc90",
   "metadata": {},
   "outputs": [],
   "source": [
    "# export estimated expression in each cluster\n",
    "if 'means_per_cluster_mu_fg' in adata_ref.varm.keys():\n",
    "    inf_aver = adata_ref.varm['means_per_cluster_mu_fg'][[f'means_per_cluster_mu_fg_{i}'\n",
    "                                    for i in adata_ref.uns['mod']['factor_names']]].copy()\n",
    "else:\n",
    "    inf_aver = adata_ref.var[[f'means_per_cluster_mu_fg_{i}'\n",
    "                                    for i in adata_ref.uns['mod']['factor_names']]].copy()\n",
    "inf_aver.columns = adata_ref.uns['mod']['factor_names']\n",
    "inf_aver.iloc[0:5,20:30 ]"
   ]
  },
  {
   "cell_type": "code",
   "execution_count": null,
   "id": "95f8c615-9eb3-4c2d-ab7c-330da304b33b",
   "metadata": {},
   "outputs": [],
   "source": [
    "inf_aver.loc['Pax7']"
   ]
  },
  {
   "cell_type": "code",
   "execution_count": null,
   "id": "84c968e2-d46b-4244-a469-ba891c933ec4",
   "metadata": {},
   "outputs": [],
   "source": [
    "# adata_obj=[]\n",
    "# adata_1 = sc.read_10x_mtx('/fs/cbsuvlaminck2/workdir/in68/Curio/align_out/Sample11/STARsolo/Solo.out/GeneFull/raw/')\n",
    "# adata_1 = add_spatial_coordinates(adata_1,\n",
    "#                                             f\"/fs/cbsuvlaminck2/workdir/in68/Utils/Curio_BB/A0018_011_BeadBarcodes.txt\")\n",
    "    \n",
    "# adata_1.raw = adata_1.copy()\n",
    "\n",
    "# adata_2 = sc.read_10x_mtx('/fs/cbsuvlaminck2/workdir/in68/Curio/align_out/Sample12/STARsolo/Solo.out/GeneFull/raw/')\n",
    "\n",
    "# adata_2 = add_spatial_coordinates(adata_2,\n",
    "#                                             f\"/fs/cbsuvlaminck2/workdir/in68/Utils/Curio_BB/A0018_012_BeadBarcodes.txt\")\n",
    "    \n",
    "# adata_2.raw = adata_2.copy()\n",
    "\n",
    "\n",
    "\n",
    "\n",
    "\n",
    "\n",
    "\n",
    "# adata_obj = ad.concat(adatas = [adata_1,adata_2], keys=['Y','G'],label = 'batch')"
   ]
  },
  {
   "cell_type": "code",
   "execution_count": null,
   "id": "431ba6c6-a009-465b-93b9-f80722fa445a",
   "metadata": {},
   "outputs": [],
   "source": [
    "#adata_obj = sc.read_10x_mtx('/fs/cbsuvlaminck2/workdir/in68/Curio/align_out/Sample11/STARsolo/Solo.out/GeneFull/raw/')\n",
    "adata_obj = sc.read_h5ad(\"/workdir/in68/Muscle/out/h5ad/binned25_Sample11.h5ad\")"
   ]
  },
  {
   "cell_type": "code",
   "execution_count": null,
   "id": "9afc2534-ee30-4faa-9cf2-073f83948b69",
   "metadata": {},
   "outputs": [],
   "source": [
    "# adata_obj = add_spatial_coordinates(adata_obj,\n",
    "#                                             f\"/fs/cbsuvlaminck2/workdir/in68/Utils/Curio_BB/A0018_011_BeadBarcodes.txt\")\n",
    "    \n",
    "#adata_obj.raw = adata_obj.copy()\n",
    "min_counts = 20\n",
    "adata_obj.var[\"mito\"] = adata_obj.var_names.str.startswith(\"Mt-\")\n",
    "#adata_obj.obsm['MT'] = adata_obj[:, adata_obj.var['mito'].values].X.toarray()\n",
    "adata_obj = adata_obj[:, ~adata_obj.var['mito'].values]\n",
    "sc.pp.filter_cells(adata_obj, min_counts = min_counts)"
   ]
  },
  {
   "cell_type": "code",
   "execution_count": null,
   "id": "47e5107d-1097-4e21-b1de-a45c8f02f8a6",
   "metadata": {},
   "outputs": [],
   "source": [
    "# find shared genes and subset both anndata and reference signatures\n",
    "intersect = np.intersect1d(adata_obj.var_names, inf_aver.index)\n",
    "adata_obj = adata_obj[:, intersect].copy()\n",
    "inf_aver = inf_aver.loc[intersect, :].copy()\n",
    "\n",
    "# prepare anndata for cell2location model\n",
    "cell2location.models.Cell2location.setup_anndata(adata=adata_obj)"
   ]
  },
  {
   "cell_type": "code",
   "execution_count": null,
   "id": "5b96074b-71d0-4303-95c1-ebf0950cc03e",
   "metadata": {},
   "outputs": [],
   "source": [
    "\n",
    "cell2location.models.Cell2location.setup_anndata(adata=adata_obj)\n",
    "# create and train the model\n",
    "mod = cell2location.models.Cell2location(\n",
    "    adata_obj, cell_state_df=inf_aver,\n",
    "    # the expected average cell abundance: tissue-dependent\n",
    "    # hyper-prior which can be estimated from paired histology:\n",
    "    N_cells_per_location=4,\n",
    "    # hyperparameter controlling normalisation of\n",
    "    # within-experiment variation in RNA detection:\n",
    "    detection_alpha=20\n",
    "    \n",
    ")\n",
    "mod.view_anndata_setup()"
   ]
  },
  {
   "cell_type": "code",
   "execution_count": null,
   "id": "977ac529-61c2-4aa8-b80d-044574a1e659",
   "metadata": {},
   "outputs": [],
   "source": [
    "mod"
   ]
  },
  {
   "cell_type": "code",
   "execution_count": null,
   "id": "ff3b22c4-5810-4b39-85a1-3366f4c175b9",
   "metadata": {},
   "outputs": [],
   "source": [
    "gc.collect()\n",
    "mod.train(max_epochs=20000,\n",
    "          # train using full data (batch_size=None)\n",
    "          batch_size=6000,\n",
    "          # use all data points in training because\n",
    "          # we need to estimate cell abundance at all locations\n",
    "          train_size=1,\n",
    "          use_gpu= 1\n",
    "         )\n"
   ]
  },
  {
   "cell_type": "code",
   "execution_count": null,
   "id": "d5832a18-afbd-4a50-875f-28ce28949132",
   "metadata": {},
   "outputs": [],
   "source": [
    "!nvidia-smi"
   ]
  },
  {
   "cell_type": "code",
   "execution_count": null,
   "id": "efdc728c-dae6-4c65-88d7-4ff2a34ebd0e",
   "metadata": {},
   "outputs": [],
   "source": [
    "# plot ELBO loss history during training, removing first 100 epochs from the plot\n",
    "mod.plot_history(100)\n",
    "plt.legend(labels=['full data training']);"
   ]
  },
  {
   "cell_type": "code",
   "execution_count": null,
   "id": "d66a6572-e5b7-48a7-8175-e797bb6508c2",
   "metadata": {},
   "outputs": [],
   "source": [
    "mod"
   ]
  },
  {
   "cell_type": "code",
   "execution_count": null,
   "id": "46b198a7-9782-47e8-8916-8657ec952d8a",
   "metadata": {},
   "outputs": [],
   "source": [
    "# In this section, we export the estimated cell abundance (summary of the posterior distribution).\n",
    "sample_name = 'Muscle_0404_Y'\n",
    "\n",
    "adata = mod.export_posterior(\n",
    "    adata_obj, sample_kwargs={'num_samples': 500, 'batch_size': 5000, 'use_gpu': True}\n",
    ")\n",
    "\n",
    "# Save model\n",
    "#mod.save(f\"{sample_name}\", overwrite=True)\n",
    "mod.save(f\"/workdir/in68/Muscle/c2l{sample_name}\", overwrite = True)\n",
    "\n",
    "\n",
    "\n",
    "# mod = cell2location.models.Cell2location.load(f\"{run_name}\", adata_vis)\n",
    "\n",
    "# Save anndata object with results\n",
    "adata_file = f\"/workdir/in68/Muscle/{sample_name}.h5ad\"\n",
    "adata.write(adata_file)\n",
    "adata_file\n",
    "\n",
    "\n",
    "\n",
    "# # In this section, we export the estimated cell abundance (summary of the posterior distribution).\n",
    "# sample_name = 'Muscle_all_0329_G'\n",
    "\n",
    "# adata = mod.export_posterior(\n",
    "#     adata_G, sample_kwargs={'num_samples': 1000, 'batch_size': 3000, 'use_gpu': True}\n",
    "# )\n",
    "\n",
    "# # Save model\n",
    "# #mod.save(f\"{sample_name}\", overwrite=True)\n",
    "# mod.save(f\"/workdir/in68/Muscle/c2l{sample_name}\", overwrite = True)\n",
    "\n",
    "\n",
    "\n",
    "# # mod = cell2location.models.Cell2location.load(f\"{run_name}\", adata_vis)\n",
    "\n",
    "# # Save anndata object with results\n",
    "# adata_file = f\"/workdir/in68/Muscle/{sample_name}.h5ad\"\n",
    "# adata.write(adata_file)\n",
    "# adata_file"
   ]
  },
  {
   "cell_type": "code",
   "execution_count": null,
   "id": "d314ec60-a217-4d7b-8a53-34dedd111d9f",
   "metadata": {},
   "outputs": [],
   "source": []
  },
  {
   "cell_type": "code",
   "execution_count": null,
   "id": "0ceba825-01fa-4c71-9762-b554c80597c5",
   "metadata": {},
   "outputs": [],
   "source": [
    "adata_obj"
   ]
  },
  {
   "cell_type": "code",
   "execution_count": null,
   "id": "a88319ab-7163-495e-84ef-8fff7be8b28a",
   "metadata": {},
   "outputs": [],
   "source": [
    "mod.plot_QC()\n"
   ]
  },
  {
   "cell_type": "code",
   "execution_count": null,
   "id": "7377a798-cb49-4e38-80e1-65365954c108",
   "metadata": {},
   "outputs": [],
   "source": [
    "adata_obj.obsm[\"spatial\"]\n"
   ]
  },
  {
   "cell_type": "code",
   "execution_count": null,
   "id": "35049d76-b2d6-4dee-aef2-fcc3cfca1a4f",
   "metadata": {},
   "outputs": [],
   "source": []
  },
  {
   "cell_type": "code",
   "execution_count": null,
   "id": "9aefba92-f384-4a13-a818-00c82c8a365d",
   "metadata": {},
   "outputs": [],
   "source": [
    "#adata_obj_2 = sc.read_10x_mtx('/fs/cbsuvlaminck2/workdir/in68/Curio/align_out/Sample12/STARsolo/Solo.out/GeneFull/raw/')\n",
    "adata_obj_2 = sc.read_h5ad(\"/workdir/in68/Muscle/out/h5ad/Sample12.h5ad\")"
   ]
  },
  {
   "cell_type": "code",
   "execution_count": null,
   "id": "d9dc04b4-56d1-46d0-bb61-f05eb5583e2c",
   "metadata": {},
   "outputs": [],
   "source": [
    "# adata_obj_2 = add_spatial_coordinates(adata_obj_2,\n",
    "#                                             f\"/fs/cbsuvlaminck2/workdir/in68/Utils/Curio_BB/A0018_012_BeadBarcodes.txt\")\n",
    "    \n",
    "# adata_obj_2.raw = adata_obj_2.copy()\n",
    "# min_counts = 20\n",
    "adata_obj_2.var[\"mito\"] = adata_obj_2.var_names.str.startswith(\"Mt-\")\n",
    "\n",
    "adata_obj_2 = adata_obj_2[:, ~adata_obj_2.var['mito'].values]\n",
    "sc.pp.filter_cells(adata_obj_2, min_counts = min_counts)"
   ]
  },
  {
   "cell_type": "code",
   "execution_count": null,
   "id": "10eec4d8-738b-4109-adf2-8bfe4cc6149d",
   "metadata": {},
   "outputs": [],
   "source": [
    "# find shared genes and subset both anndata and reference signatures\n",
    "intersect = np.intersect1d(adata_obj_2.var_names, inf_aver.index)\n",
    "adata_obj_2 = adata_obj_2[:, intersect].copy()\n",
    "inf_aver = inf_aver.loc[intersect, :].copy()\n",
    "\n",
    "# prepare anndata for cell2location model\n",
    "cell2location.models.Cell2location.setup_anndata(adata=adata_obj_2)"
   ]
  },
  {
   "cell_type": "code",
   "execution_count": null,
   "id": "35aee561-9c5b-4c85-8660-4cc4bd46cead",
   "metadata": {},
   "outputs": [],
   "source": [
    "# create and train the model\n",
    "mod = cell2location.models.Cell2location(\n",
    "    adata_obj_2, cell_state_df=inf_aver,\n",
    "    # the expected average cell abundance: tissue-dependent\n",
    "    # hyper-prior which can be estimated from paired histology:\n",
    "    N_cells_per_location=4,\n",
    "    # hyperparameter controlling normalisation of\n",
    "    # within-experiment variation in RNA detection:\n",
    "    detection_alpha=20\n",
    ")\n",
    "mod.view_anndata_setup()"
   ]
  },
  {
   "cell_type": "code",
   "execution_count": null,
   "id": "2320e11d-9695-4e3a-8b46-c53ecfadf0cd",
   "metadata": {},
   "outputs": [],
   "source": [
    "gc.collect()\n",
    "mod.train(max_epochs=5000,\n",
    "          # train using full data (batch_size=None)\n",
    "          batch_size=6000,\n",
    "          # use all data points in training because\n",
    "          # we need to estimate cell abundance at all locations\n",
    "          train_size= 1,\n",
    "          use_gpu= 2\n",
    "         )\n"
   ]
  },
  {
   "cell_type": "code",
   "execution_count": null,
   "id": "02fe4a32-5d38-42fc-8074-f3e77e97dbfd",
   "metadata": {
    "scrolled": true
   },
   "outputs": [],
   "source": [
    "!nvidia-smi"
   ]
  },
  {
   "cell_type": "code",
   "execution_count": null,
   "id": "913cc25d-e97c-4d78-8c46-a857634b4808",
   "metadata": {},
   "outputs": [],
   "source": [
    "# plot ELBO loss history during training, removing first 100 epochs from the plot\n",
    "mod.plot_history(100)\n",
    "plt.legend(labels=['full data training']);"
   ]
  },
  {
   "cell_type": "code",
   "execution_count": null,
   "id": "3741b89e-8271-4ad6-bec0-5ee21acaf159",
   "metadata": {},
   "outputs": [],
   "source": [
    "# In this section, we export the estimated cell abundance (summary of the posterior distribution).\n",
    "sample_name = 'Muscle_0404_G'\n",
    "adata_obj_2 = mod.export_posterior(\n",
    "    adata_obj_2,  sample_kwargs={'num_samples': 1000, 'batch_size': mod.adata.n_obs, 'use_gpu': 1}\n",
    ")\n",
    "\n",
    "# Save model\n",
    "#mod.save(f\"{sample_name}\", overwrite=True)\n",
    "mod.save(f\"/workdir/in68/Muscle/c2l{sample_name}\", overwrite = True)\n",
    "\n",
    "\n",
    "\n",
    "# mod = cell2location.models.Cell2location.load(f\"{run_name}\", adata_vis)\n",
    "\n",
    "# Save anndata object with results\n",
    "adata_file = f\"/workdir/in68/Muscle/{sample_name}.h5ad\"\n",
    "adata_obj_2.write(adata_file)\n",
    "adata_file"
   ]
  },
  {
   "cell_type": "code",
   "execution_count": null,
   "id": "affed8a3-ae82-4468-886e-9a5e6a92ff63",
   "metadata": {},
   "outputs": [],
   "source": [
    "mod.plot_QC()\n"
   ]
  },
  {
   "cell_type": "code",
   "execution_count": null,
   "id": "acb0b597-3dc8-4e21-b69f-9ec4d586a08a",
   "metadata": {},
   "outputs": [],
   "source": []
  },
  {
   "cell_type": "code",
   "execution_count": null,
   "id": "f659767a-d550-45b8-a593-305431e0faf9",
   "metadata": {},
   "outputs": [],
   "source": [
    "#####Add Back Spatial location\n",
    "\n",
    "adata_obj.obs[adata_obj.uns['mod']['factor_names']] = adata_raw.obsm['q05_cell_abundance_w_sf']\n",
    "\n",
    "\n",
    "\n",
    "sc_cluster_order = ['FAPs (Adipogenic)', 'FAPs (Pro-remodeling)',\n",
    "       'FAPs (Stem)', 'Fusing Myocytes', 'M1 Macrophages (Ccr2+)',\n",
    "       'M1/M2 Macrophages (Mrc1+)', 'M2 Macrophages (Cx3cr1+)',\n",
    "       'Monocytes (Cycling; Cdk1+)', 'Monocytes/Macrophages (Cxcl10+)',\n",
    "       'Monocytes/Macrophages (Patrolling; Ctsa+)', 'MuSCs 1', 'MuSCs 2',\n",
    "       'MuSCs 3', 'MuSCs 4', 'MuSCs 5', 'MuSCs 6', 'Myonuclei',\n",
    "       'NK cells', 'Neutrophils', 'Non-Cycling MPCs',\n",
    "       'Pericytes and Smooth muscle cells']\n",
    "\n",
    "\n",
    "sc.settings.set_figure_params(dpi_save= 400, fontsize=7, figsize=(3.0,3.0), facecolor='white', frameon=True, transparent=True, format=\"pdf\")\n",
    "sc.pl.spatial(adata_obj, color=sc_cluster_order, ncols=7, frameon=False, cmap = 'magma', \n",
    "              size=1.5, scale_factor=1.0, hspace=0.1, wspace=0.1,spot_size= 20,\n",
    "              # limit color scale at 99.2% quantile of cell abundance\n",
    "              vmin=0, vmax='p99.2'\n",
    "             )"
   ]
  },
  {
   "cell_type": "code",
   "execution_count": null,
   "id": "6038be91-d0d7-4bd1-85f3-09f7f8b4f08c",
   "metadata": {},
   "outputs": [],
   "source": [
    "adata_obj_2\n",
    "adata_obj_2.obs[adata_obj_2.uns['mod']['factor_names']] = adata_obj_2.obsm['q05_cell_abundance_w_sf']\n",
    "sc.settings.set_figure_params(dpi_save= 400, fontsize=7, figsize=(3.0,3.0), facecolor='white', frameon=True, transparent=True, format=\"pdf\")\n",
    "sc.pl.spatial(adata_obj_2, color=['MuSCs','Fusing Myocytes','Myonuclei', 'T cells'], ncols=7, frameon=False, cmap = 'magma', \n",
    "              size=1.5, scale_factor=1.0, hspace=0.1, wspace=0.1,spot_size= 1,\n",
    "              # limit color scale at 99.2% quantile of cell abundance\n",
    "              vmin=0, vmax='p99.2'\n",
    "             )"
   ]
  },
  {
   "cell_type": "code",
   "execution_count": null,
   "id": "0d798fe9-6207-4b4f-9743-47a150b4627f",
   "metadata": {},
   "outputs": [],
   "source": [
    "adata_obj\n",
    "adata_obj.obs[adata_obj.uns['mod']['factor_names']] = adata_obj.obsm['q05_cell_abundance_w_sf']\n",
    "sc.settings.set_figure_params(dpi_save= 400, fontsize=7, figsize=(3.0,3.0), facecolor='white', frameon=True, transparent=True, format=\"pdf\")\n",
    "sc.pl.spatial(adata_obj, color=['Fusing Myocytes','Myonuclei','MuSCs','T cells'], ncols=7, frameon=False, cmap = 'magma', \n",
    "              size=1.5, scale_factor=1.0, hspace=0.1, wspace=0.1,spot_size= 1,\n",
    "              # limit color scale at 99.2% quantile of cell abundance\n",
    "              vmin=0, vmax='p99.2'\n",
    "             )"
   ]
  },
  {
   "cell_type": "code",
   "execution_count": null,
   "id": "ec3b6a68-0f31-4ec2-bbcd-c24b72282a98",
   "metadata": {},
   "outputs": [],
   "source": [
    "adata_obj.obsm['means_cell_abundance_w_sf']\n",
    "sc.pp.neighbors(adata_obj,use_rep='means_cell_abundance_w_sf')\n",
    "sc.tl.leiden(adata_obj,resolution= 0.2)"
   ]
  },
  {
   "cell_type": "code",
   "execution_count": null,
   "id": "fdefbd60-0992-44bb-a468-70a29fd67a45",
   "metadata": {},
   "outputs": [],
   "source": [
    "adata_obj"
   ]
  },
  {
   "cell_type": "code",
   "execution_count": null,
   "id": "52249b42-3836-4434-89b9-895767bf9464",
   "metadata": {},
   "outputs": [],
   "source": [
    "sc.pl.spatial(adata_obj, color='leiden', ncols=1, frameon=False, cmap = 'magma', \n",
    "              size=1.5, scale_factor=1.0, hspace=0.1, wspace=0.1,spot_size= 1,\n",
    "              # limit color scale at 99.2% quantile of cell abundance\n",
    "              vmin=0, vmax='p99.2'\n",
    "             )"
   ]
  }
 ],
 "metadata": {
  "kernelspec": {
   "display_name": "Environment (c2l_backup)",
   "language": "python",
   "name": "c2l_backup"
  },
  "language_info": {
   "codemirror_mode": {
    "name": "ipython",
    "version": 3
   },
   "file_extension": ".py",
   "mimetype": "text/x-python",
   "name": "python",
   "nbconvert_exporter": "python",
   "pygments_lexer": "ipython3",
   "version": "3.9.0"
  },
  "vscode": {
   "interpreter": {
    "hash": "69f6bc3dce989aec6a9fa64cef9210c4dbbdffa11e65c61c0ecfc61109929aaf"
   }
  }
 },
 "nbformat": 4,
 "nbformat_minor": 5
}
